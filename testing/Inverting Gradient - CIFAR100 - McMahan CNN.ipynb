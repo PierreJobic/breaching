{
 "cells": [
  {
   "attachments": {},
   "cell_type": "markdown",
   "id": "3ebef44a",
   "metadata": {},
   "source": [
    "# Inverting Gradients - How easy is it to break privacy in federated learning?"
   ]
  },
  {
   "attachments": {},
   "cell_type": "markdown",
   "id": "a756fc5f",
   "metadata": {},
   "source": [
    "This notebook shows an example for a **large(r)-batch image gradient inversion** as described in \"Inverting Gradients - How easy is it to break privacy in federated learning?\". The setting is an untrained ResNet32-10 and the federated learning algorithm is **fedSGD**.\n",
    "\n",
    "Paper URL: https://proceedings.neurips.cc/paper/2020/hash/c4ede56bbd98819ae6112b20ac6bf145-Abstract.html"
   ]
  },
  {
   "attachments": {},
   "cell_type": "markdown",
   "id": "5817647e",
   "metadata": {},
   "source": [
    "This is basically the experiment of Fig.6 in this paper."
   ]
  },
  {
   "attachments": {},
   "cell_type": "markdown",
   "id": "b31823a2",
   "metadata": {},
   "source": [
    "#### Abstract\n",
    "The idea of federated learning is to collaboratively train a neural network on a server. Each user receives the current weights of the network and in turns sends parameter updates (gradients) based on local data. This protocol has been designed not only to train neural networks data-efficiently, but also to provide privacy benefits for users, as their input data remains on device and only parameter gradients are shared. But how secure is sharing parameter gradients? Previous attacks have provided a false sense of security, by succeeding only in contrived settings - even for a single image. However, by exploiting a magnitude-invariant loss along with optimization strategies based on adversarial attacks, we show that is is actually possible to faithfully reconstruct images at high resolution from the knowledge of their parameter gradients, and demonstrate that such a break of privacy is possible even for trained deep networks. We analyze the effects of architecture as well as parameters on the difficulty of reconstructing an input image and prove that any input to a fully connected layer can be reconstructed analytically independent of the remaining architecture. Finally we discuss settings encountered in practice and show that even averaging gradients over several iterations or several images does not protect the user's privacy in federated learning applications."
   ]
  },
  {
   "attachments": {},
   "cell_type": "markdown",
   "id": "28c7223c",
   "metadata": {},
   "source": [
    "### Startup"
   ]
  },
  {
   "cell_type": "code",
   "execution_count": 1,
   "id": "b850eabf",
   "metadata": {},
   "outputs": [],
   "source": [
    "try:\n",
    "    import breaching\n",
    "except ModuleNotFoundError:\n",
    "    # You only really need this safety net if you want to run these notebooks directly in the examples directory\n",
    "    # Don't worry about this if you installed the package or moved the notebook to the main directory.\n",
    "    import os; os.chdir(\"..\")\n",
    "    import breaching\n",
    "    \n",
    "\n",
    "import torch\n",
    "%load_ext autoreload\n",
    "%autoreload 2\n",
    "\n",
    "# Redirects logs directly into the jupyter notebook\n",
    "import logging, sys\n",
    "logging.basicConfig(level=logging.INFO, handlers=[logging.StreamHandler(sys.stdout)], format='%(message)s')\n",
    "logger = logging.getLogger()"
   ]
  },
  {
   "attachments": {},
   "cell_type": "markdown",
   "id": "88d5e214",
   "metadata": {},
   "source": [
    "### Initialize cfg object and system setup:"
   ]
  },
  {
   "attachments": {},
   "cell_type": "markdown",
   "id": "56bd663b",
   "metadata": {},
   "source": [
    "This will load the full configuration object. This includes the configuration for the use case and threat model as `cfg.case` and the hyperparameters and implementation of the attack as `cfg.attack`. All parameters can be modified below, or overriden with `overrides=` as if they were cmd-line arguments."
   ]
  },
  {
   "cell_type": "code",
   "execution_count": 2,
   "id": "a7dc3a48",
   "metadata": {},
   "outputs": [
    {
     "name": "stdout",
     "output_type": "stream",
     "text": [
      "Investigating use case large_batch_cifar with server type honest_but_curious.\n"
     ]
    },
    {
     "data": {
      "text/plain": [
       "{'device': device(type='cpu'), 'dtype': torch.float32}"
      ]
     },
     "execution_count": 2,
     "metadata": {},
     "output_type": "execute_result"
    }
   ],
   "source": [
    "cfg = breaching.get_config(overrides=[\"case=6_large_batch_cifar\"])\n",
    "\n",
    "device = torch.device('cuda:0' if torch.cuda.is_available() else 'cpu')\n",
    "torch.backends.cudnn.benchmark = cfg.case.impl.benchmark\n",
    "setup = dict(device=device, dtype=getattr(torch, cfg.case.impl.dtype))\n",
    "setup"
   ]
  },
  {
   "attachments": {},
   "cell_type": "markdown",
   "id": "203c5fb1",
   "metadata": {},
   "source": [
    "### Modify config options here"
   ]
  },
  {
   "attachments": {},
   "cell_type": "markdown",
   "id": "6e0764ef",
   "metadata": {},
   "source": [
    "You can use `.attribute` access to modify any of these configurations for the attack, or the case:"
   ]
  },
  {
   "cell_type": "code",
   "execution_count": 13,
   "id": "ac118ea0",
   "metadata": {},
   "outputs": [],
   "source": [
    "cfg.case.data.partition=\"balanced\" # 100 unique CIFAR-100 images\n",
    "cfg.case.user.user_idx = 0\n",
    "\n",
    "cfg.case.user.provide_labels = False\n",
    "cfg.case.user.num_data_points = 4\n",
    "cfg.attack.label_strategy = \"yin\" # also works here, as labels are unique\n",
    "\n",
    "# Total variation regularization needs to be smaller on CIFAR-10:\n",
    "cfg.attack.regularization.total_variation.scale = 5e-4\n",
    "\n",
    "# Change the Model here\n",
    "cfg.case.model = \"custom_McMahan_32_32\""
   ]
  },
  {
   "attachments": {},
   "cell_type": "markdown",
   "id": "76f64389",
   "metadata": {},
   "source": [
    "### Instantiate all parties"
   ]
  },
  {
   "attachments": {},
   "cell_type": "markdown",
   "id": "ce37e668",
   "metadata": {},
   "source": [
    "The following lines generate \"server, \"user\" and \"attacker\" objects and print an overview of their configurations."
   ]
  },
  {
   "cell_type": "code",
   "execution_count": 14,
   "id": "d3abd955",
   "metadata": {},
   "outputs": [
    {
     "name": "stdout",
     "output_type": "stream",
     "text": [
      "Files already downloaded and verified\n",
      "Model architecture McMahan_32_32 loaded with 2,202,660 parameters and 0 buffers.\n",
      "Overall this is a data ratio of     179:1 for target shape [4, 3, 32, 32] given that num_queries=1.\n",
      "User (of type UserSingleStep) with settings:\n",
      "    Number of data points: 4\n",
      "\n",
      "    Threat model:\n",
      "    User provides labels: False\n",
      "    User provides buffers: False\n",
      "    User provides number of data points: True\n",
      "\n",
      "    Data:\n",
      "    Dataset: CIFAR100\n",
      "    user: 0\n",
      "    \n",
      "        \n",
      "Server (of type HonestServer) with settings:\n",
      "    Threat model: Honest-but-curious\n",
      "    Number of planned queries: 1\n",
      "    Has external/public data: False\n",
      "\n",
      "    Model:\n",
      "        model specification: McMahan_32_32\n",
      "        model state: default\n",
      "        \n",
      "\n",
      "    Secrets: {}\n",
      "    \n",
      "Attacker (of type OptimizationBasedAttacker) with settings:\n",
      "    Hyperparameter Template: invertinggradients\n",
      "\n",
      "    Objective: Cosine Similarity with scale=1.0 and task reg=0.0\n",
      "    Regularizers: Total Variation, scale=0.0005. p=1 q=1. \n",
      "    Augmentations: \n",
      "\n",
      "    Optimization Setup:\n",
      "        optimizer: adam\n",
      "        signed: hard\n",
      "        step_size: 0.1\n",
      "        boxed: True\n",
      "        max_iterations: 24000\n",
      "        step_size_decay: step-lr\n",
      "        langevin_noise: 0.0\n",
      "        warmup: 0\n",
      "        grad_clip: None\n",
      "        callback: 1000\n",
      "        \n"
     ]
    }
   ],
   "source": [
    "user, server, model, loss_fn = breaching.cases.construct_case(cfg.case, setup)\n",
    "attacker = breaching.attacks.prepare_attack(server.model, server.loss, cfg.attack, setup)\n",
    "breaching.utils.overview(server, user, attacker)"
   ]
  },
  {
   "attachments": {},
   "cell_type": "markdown",
   "id": "548c0ad6",
   "metadata": {},
   "source": [
    "### Simulate an attacked FL protocol"
   ]
  },
  {
   "attachments": {},
   "cell_type": "markdown",
   "id": "2058bcc2",
   "metadata": {},
   "source": [
    "This exchange is a simulation of a single query in a federated learning protocol. The server sends out a `server_payload` and the user computes an update based on their private local data. This user update is `shared_data` and contains, for example, the parameter gradient of the model in the simplest case. `true_user_data` is also returned by `.compute_local_updates`, but of course not forwarded to the server or attacker and only used for (our) analysis."
   ]
  },
  {
   "cell_type": "code",
   "execution_count": 15,
   "id": "709ae8b0",
   "metadata": {},
   "outputs": [
    {
     "name": "stdout",
     "output_type": "stream",
     "text": [
      "Computing user update on user 0 in model mode: eval.\n"
     ]
    }
   ],
   "source": [
    "server_payload = server.distribute_payload()\n",
    "server_payload[\"metadata\"]['batch_size'] = 4\n",
    "shared_data, true_user_data = user.compute_local_updates(server_payload)"
   ]
  },
  {
   "cell_type": "code",
   "execution_count": 16,
   "id": "49c68628",
   "metadata": {},
   "outputs": [
    {
     "data": {
      "image/png": "[encoded data removed]",
      "text/plain": [
       "<Figure size 600x600 with 4 Axes>"
      ]
     },
     "metadata": {},
     "output_type": "display_data"
    }
   ],
   "source": [
    "user.plot(true_user_data)"
   ]
  },
  {
   "attachments": {},
   "cell_type": "markdown",
   "id": "17255c5a",
   "metadata": {},
   "source": [
    "### Reconstruct user data:"
   ]
  },
  {
   "attachments": {},
   "cell_type": "markdown",
   "id": "798f4f44",
   "metadata": {},
   "source": [
    "Now we launch the attack, reconstructing user data based on only the `server_payload` and the `shared_data`. \n",
    "\n",
    "You can interrupt the computation early to see a partial solution."
   ]
  },
  {
   "cell_type": "code",
   "execution_count": 17,
   "id": "c9a32fd7",
   "metadata": {},
   "outputs": [
    {
     "name": "stdout",
     "output_type": "stream",
     "text": [
      "Recovered labels [0, 1, 2, 3] through strategy yin.\n",
      "| It: 1/24000 | Rec. loss: 0.5011 |  Task loss: 4.6095 | T: 0.07s\n",
      "| It: 1001/24000 | Rec. loss: 0.0290 |  Task loss: 4.6068 | T: 24.47s\n",
      "| It: 2001/24000 | Rec. loss: 0.0241 |  Task loss: 4.6083 | T: 24.76s\n",
      "| It: 3001/24000 | Rec. loss: 0.0233 |  Task loss: 4.6075 | T: 25.12s\n",
      "| It: 4001/24000 | Rec. loss: 0.0241 |  Task loss: 4.6094 | T: 25.21s\n",
      "| It: 5001/24000 | Rec. loss: 0.0351 |  Task loss: 4.6079 | T: 25.88s\n",
      "| It: 6001/24000 | Rec. loss: 0.0280 |  Task loss: 4.6078 | T: 25.62s\n",
      "| It: 7001/24000 | Rec. loss: 0.0301 |  Task loss: 4.6086 | T: 25.22s\n",
      "| It: 8001/24000 | Rec. loss: 0.0240 |  Task loss: 4.6079 | T: 25.51s\n",
      "| It: 9001/24000 | Rec. loss: 0.0217 |  Task loss: 4.6076 | T: 25.37s\n",
      "| It: 10001/24000 | Rec. loss: 0.0132 |  Task loss: 4.6074 | T: 25.16s\n",
      "| It: 11001/24000 | Rec. loss: 0.0121 |  Task loss: 4.6083 | T: 25.44s\n",
      "| It: 12001/24000 | Rec. loss: 0.0124 |  Task loss: 4.6078 | T: 25.27s\n",
      "| It: 13001/24000 | Rec. loss: 0.0141 |  Task loss: 4.6073 | T: 25.36s\n",
      "| It: 14001/24000 | Rec. loss: 0.0136 |  Task loss: 4.6082 | T: 25.18s\n",
      "| It: 15001/24000 | Rec. loss: 0.0156 |  Task loss: 4.6079 | T: 25.20s\n",
      "| It: 16001/24000 | Rec. loss: 0.0127 |  Task loss: 4.6075 | T: 25.34s\n",
      "| It: 17001/24000 | Rec. loss: 0.0140 |  Task loss: 4.6076 | T: 25.27s\n",
      "| It: 18001/24000 | Rec. loss: 0.0134 |  Task loss: 4.6079 | T: 25.48s\n",
      "| It: 19001/24000 | Rec. loss: 0.0186 |  Task loss: 4.6081 | T: 25.67s\n",
      "| It: 20001/24000 | Rec. loss: 0.0165 |  Task loss: 4.6080 | T: 25.91s\n",
      "| It: 21001/24000 | Rec. loss: 0.0123 |  Task loss: 4.6077 | T: 26.57s\n",
      "| It: 22001/24000 | Rec. loss: 0.0146 |  Task loss: 4.6075 | T: 25.77s\n",
      "| It: 23001/24000 | Rec. loss: 0.0116 |  Task loss: 4.6077 | T: 26.35s\n",
      "| It: 24000/24000 | Rec. loss: 0.0140 |  Task loss: 4.6080 | T: 25.85s\n",
      "Optimal candidate solution with rec. loss 0.0093 selected.\n"
     ]
    }
   ],
   "source": [
    "reconstructed_user_data, stats = attacker.reconstruct([server_payload], [shared_data], {}, dryrun=cfg.dryrun)"
   ]
  },
  {
   "attachments": {},
   "cell_type": "markdown",
   "id": "d746e854",
   "metadata": {},
   "source": [
    "Next we'll evaluate metrics, comparing the `reconstructed_user_data` to the `true_user_data`."
   ]
  },
  {
   "cell_type": "code",
   "execution_count": 18,
   "id": "31f2685a",
   "metadata": {},
   "outputs": [
    {
     "name": "stdout",
     "output_type": "stream",
     "text": [
      "Starting evaluations for attack effectiveness report...\n"
     ]
    },
    {
     "name": "stderr",
     "output_type": "stream",
     "text": [
      "c:\\Users\\PJ273170\\Anaconda3\\envs\\breaching\\lib\\site-packages\\torchvision\\models\\_utils.py:208: UserWarning: The parameter 'pretrained' is deprecated since 0.13 and may be removed in the future, please use 'weights' instead.\n",
      "  warnings.warn(\n",
      "c:\\Users\\PJ273170\\Anaconda3\\envs\\breaching\\lib\\site-packages\\torchvision\\models\\_utils.py:223: UserWarning: Arguments other than a weight enum or `None` for 'weights' are deprecated since 0.13 and may be removed in the future. The current behavior is equivalent to passing `weights=AlexNet_Weights.IMAGENET1K_V1`. You can also use `weights=AlexNet_Weights.DEFAULT` to get the most up-to-date weights.\n",
      "  warnings.warn(msg)\n"
     ]
    },
    {
     "name": "stdout",
     "output_type": "stream",
     "text": [
      "Files already downloaded and verified\n",
      "METRICS: | MSE: 0.0022 | PSNR: 26.62 | FMSE: 1.0703e-06 | LPIPS: 0.01|\n",
      " R-PSNR: 26.62 | IIP-pixel: 100.00% | SSIM: 0.8879 | max R-PSNR: 27.28 | max SSIM: 0.9239 | Label Acc: 100.00%\n"
     ]
    }
   ],
   "source": [
    "from omegaconf import open_dict\n",
    "with open_dict(cfg):\n",
    "    cfg.case.data.vocab_size = 100 # issue if not setup\n",
    "\n",
    "metrics = breaching.analysis.report(\n",
    "    reconstructed_user_data, \n",
    "    true_user_data,\n",
    "    [server_payload], \n",
    "    server.model,\n",
    "    order_batch=True,\n",
    "    compute_full_iip=False, \n",
    "    cfg_case=cfg.case,\n",
    "    setup=setup,\n",
    ")"
   ]
  },
  {
   "cell_type": "code",
   "execution_count": 19,
   "id": "3ebd5103",
   "metadata": {},
   "outputs": [],
   "source": [
    "# import pickle\n",
    "\n",
    "# dict_to_save = {\n",
    "#     \"reconstructed_user_data\": reconstructed_user_data,\n",
    "#     \"true_user_data\": true_user_data,\n",
    "#     \"server_payload\": server_payload,\n",
    "#     \"server.model\": server.model,\n",
    "#     \"cfg\": cfg,\n",
    "#     \"setup\": setup,\n",
    "#     \"metrics\": metrics,\n",
    "# }\n",
    "\n",
    "# save_path = \"./outputs/default/2023-02-15/13-27-57/results.pickle\"\n",
    "\n",
    "# with open(save_path, 'wb') as file:\n",
    "#     pickle.dump(dict_to_save, file, protocol=pickle.HIGHEST_PROTOCOL)"
   ]
  },
  {
   "cell_type": "code",
   "execution_count": 20,
   "id": "64ce9cb1",
   "metadata": {},
   "outputs": [],
   "source": [
    "# import pickle\n",
    "# save_path = \"./outputs/default/2023-02-15/13-27-57/results.pickle\"\n",
    "# with open(save_path, \"rb\") as file:\n",
    "#     result = pickle.load(file)\n",
    "#     reconstructed_user_data = result[\"reconstructed_user_data\"]"
   ]
  },
  {
   "attachments": {},
   "cell_type": "markdown",
   "id": "9caa5d02",
   "metadata": {},
   "source": [
    "And finally, we also plot the reconstructed data:"
   ]
  },
  {
   "cell_type": "code",
   "execution_count": 21,
   "id": "631f4a84",
   "metadata": {},
   "outputs": [
    {
     "data": {
      "image/png": "[encoded data removed]",
      "text/plain": [
       "<Figure size 600x600 with 4 Axes>"
      ]
     },
     "metadata": {},
     "output_type": "display_data"
    }
   ],
   "source": [
    "user.plot(reconstructed_user_data)"
   ]
  },
  {
   "attachments": {},
   "cell_type": "markdown",
   "id": "50889063",
   "metadata": {},
   "source": [
    "### Notes:\n",
    "* Label recovery works reasonably well in this example. Especially as labels are unique in the default settings.\n",
    "* The interesting part here is not that most images are unrecognizable (they are), but that a few select images do get reconstructed very well.\n",
    "* Also note that this model is quite large for an experiment on CIFAR-100"
   ]
  }
 ],
 "metadata": {
  "kernelspec": {
   "display_name": "breaching",
   "language": "python",
   "name": "python3"
  },
  "language_info": {
   "codemirror_mode": {
    "name": "ipython",
    "version": 3
   },
   "file_extension": ".py",
   "mimetype": "text/x-python",
   "name": "python",
   "nbconvert_exporter": "python",
   "pygments_lexer": "ipython3",
   "version": "3.9.16"
  },
  "vscode": {
   "interpreter": {
    "hash": "df9c4cb2b16248648c1a4eeb35fdf3f075a59325e452aebb6590b14bea7a97c1"
   }
  }
 },
 "nbformat": 4,
 "nbformat_minor": 5
}
