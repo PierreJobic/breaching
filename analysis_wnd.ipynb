{
 "cells": [
  {
   "cell_type": "code",
   "execution_count": 2,
   "metadata": {},
   "outputs": [
    {
     "name": "stdout",
     "output_type": "stream",
     "text": [
      "(3692, 52)\n",
      "(199200, 5)\n"
     ]
    }
   ],
   "source": [
    "import os\n",
    "import pathlib\n",
    "import pandas as pd\n",
    "import re\n",
    "\n",
    "import copy\n",
    "import numpy as np\n",
    "\n",
    "from matplotlib import cm\n",
    "import matplotlib.pyplot as plt\n",
    "\n",
    "import analysis\n",
    "%load_ext autoreload\n",
    "%autoreload 2\n",
    "\n",
    "# Définir le répertoire racine où vous souhaitez chercher des fichiers .csv\n",
    "root_directory = os.getcwd() + \"/outputs\"\n",
    "# root_directory = os.getcwd() + \"/outputs/no_mask/2023-06-14/14-56-43/5\"\n",
    "# Créer une liste vide pour stocker tous les DataFrames des fichiers .csv trouvés\n",
    "data_frames = []\n",
    "conv_frames = []\n",
    "extract_it_and_rec_loss_from_log = False\n",
    "\n",
    "# Parcourir tous les fichiers du répertoire racine et des sous-répertoires de manière récursive\n",
    "if_break = False\n",
    "for subdir, dirs, files in os.walk(root_directory):\n",
    "    if not \"trash\" in subdir:\n",
    "        for file in files:\n",
    "            # Vérifier si le fichier est un fichier .csv\n",
    "            if file.endswith('reports.csv'):\n",
    "                # Ouvrir le fichier .csv dans un DataFrame\n",
    "                file_path = os.path.join(subdir, file)\n",
    "                df = pd.read_csv(file_path, sep='\\t')\n",
    "                df[\"file_path\"] = file_path\n",
    "                # Ajouter le DataFrame à la listeZ\n",
    "\n",
    "                for subdir_log, _, file_logs in os.walk(pathlib.Path(subdir).parent):\n",
    "                    for file_log in file_logs:\n",
    "                        if file_log.endswith('.log'):\n",
    "                            if file_log.__contains__(\"paired\"):\n",
    "                                # Extract a, b, c from log file\n",
    "                                file_path_log = os.path.join(subdir_log, file_log)\n",
    "                                a, b, c = (analysis.get_paired_from_log(file_path_log))\n",
    "                                # print(log_file.read())\n",
    "                                df[\"num_data_points\"] = a\n",
    "                                df[\"num_data_per_local_update_step\"] = b\n",
    "                                df[\"num_local_updates\"] = c\n",
    "\n",
    "                            if file_log.__contains__(\"load_round\"):\n",
    "                                # Extract load round from log file\n",
    "                                load_round = analysis.get_load_round_from_log(file_path_log)\n",
    "                                df[\"load_round\"] = load_round\n",
    "\n",
    "                            if extract_it_and_rec_loss_from_log: \n",
    "                                # Extract Iterations, and Reconstruction Losses from log file\n",
    "                                user, trials, it_rec_pairs_matches = analysis.get_iteration_and_rec_loss_from_log(file_path_log)\n",
    "                                second_time = False\n",
    "                                for it, _ in it_rec_pairs_matches:\n",
    "                                    df[f\"it_{it}\"] = None\n",
    "                                trial = 0\n",
    "                                max_it = max([it for it, _ in it_rec_pairs_matches])\n",
    "                                for it, rec_loss in it_rec_pairs_matches:\n",
    "                                    df.loc[df.index == trial, f\"it_{it}\"] = rec_loss\n",
    "                                    if it == max_it:\n",
    "                                        trial += 1\n",
    "\n",
    "                            # if_break = True\n",
    "                            if if_break:\n",
    "                                break\n",
    "                    if if_break:\n",
    "                        break\n",
    "                data_frames.append(df)\n",
    "            elif file.endswith('convergence_results.csv'):\n",
    "                file_path = os.path.join(subdir, file)\n",
    "                df = pd.read_csv(file_path, sep='\\t')\n",
    "                df[\"file_path\"] = file_path\n",
    "                conv_frames.append(df)\n",
    "            if if_break:\n",
    "                break\n",
    "        if if_break:\n",
    "            break\n",
    "\n",
    "# Fusionner tous les DataFrames en un seul DataFrame\n",
    "merged_df = pd.concat(data_frames, ignore_index=True)\n",
    "conv_df = pd.concat(conv_frames, ignore_index=True)\n",
    "print(merged_df.shape)\n",
    "print(conv_df.shape)"
   ]
  },
  {
   "cell_type": "code",
   "execution_count": 7,
   "metadata": {},
   "outputs": [
    {
     "name": "stdout",
     "output_type": "stream",
     "text": [
      "Index(['name', 'usecase', 'model', 'datapoints', 'model_state', 'attack',\n",
      "       'attacktype', 'mse', 'psnr', 'lpips', 'rpsnr', 'ssim', 'min_mse',\n",
      "       'max_mse', 'max_psnr', 'max_lpips', 'max_ssim', 'max_rpsnr', 'IIP-none',\n",
      "       'feat_mse', 'parameters', 'label_acc', 'queries', 'score', 'total_time',\n",
      "       'user_type', 'gradient_noise', 'seed', 'ATK_type', 'ATK_attack_type',\n",
      "       'ATK_label_strategy', 'ATK_text_strategy', 'ATK_token_recovery',\n",
      "       'ATK_objective', 'ATK_restarts', 'ATK_init', 'ATK_normalize_gradients',\n",
      "       'ATK_optim', 'ATK_augmentations', 'ATK_differentiable_augmentations',\n",
      "       'ATK_regularization', 'ATK_impl', 'data', 'impl', 'server', 'user',\n",
      "       'num_queries', 'folder', 'file_path', 'IIP-pixel', 'IIP-lpips',\n",
      "       'IIP-self'],\n",
      "      dtype='object')\n",
      "name                , no_mask\n",
      "usecase             , image_custom\n",
      "model               , custom_McMahan_32_32\n",
      "datapoints          , 20\n",
      "model_state         , default\n",
      "attack              , deep-leakage\n",
      "attacktype          , optimization\n",
      "mse                 , 0.0511035025119781\n",
      "psnr                , 15.888339042663574\n",
      "lpips               , 0.0852502584457397\n",
      "rpsnr               , 16.38075065612793\n",
      "ssim                , 0.6248125433921814\n",
      "min_mse             , nan\n",
      "max_mse             , nan\n",
      "max_psnr            , nan\n",
      "max_lpips           , nan\n",
      "max_ssim            , 0.8029946684837341\n",
      "max_rpsnr           , 20.820480346679688\n",
      "IIP-none            , nan\n",
      "feat_mse            , 2.6031363010406494\n",
      "parameters          , 2156490\n",
      "label_acc           , 1.0\n",
      "queries             , 1\n",
      "score               , 0.0004202655400149\n",
      "total_time          , 0:06:56.555495\n",
      "user_type           , local_update\n",
      "gradient_noise      , 0.0\n",
      "seed                , 100\n",
      "ATK_type            , deep-leakage\n",
      "ATK_attack_type     , optimization\n",
      "ATK_label_strategy  , None\n",
      "ATK_text_strategy   , run-embedding\n",
      "ATK_token_recovery  , from-embedding\n",
      "ATK_objective       , {'type': 'euclidean', 'scale': 1.0, 'task_regularization': 0.0}\n",
      "ATK_restarts        , {'num_trials': 1, 'scoring': 'euclidean'}\n",
      "ATK_init            , randn\n",
      "ATK_normalize_gradients, False\n",
      "ATK_optim           , {'optimizer': 'adam', 'signed': None, 'step_size': 0.1, 'boxed': False, 'max_iterations': 2400, 'step_size_decay': None, 'langevin_noise': 0.0, 'warmup': 0, 'grad_clip': None, 'callback': 100}\n",
      "ATK_augmentations   , nan\n",
      "ATK_differentiable_augmentations, False\n",
      "ATK_regularization  , nan\n",
      "ATK_impl            , {'dtype': 'float', 'mixed_precision': False, 'JIT': None}\n",
      "data                , {'db': {'name': None}, 'name': 'CIFAR10', 'modality': 'vision', 'task': 'classification', 'path': '/volatile/home/pj273170/data', 'size': 50000, 'classes': 10, 'shape': [3, 32, 32], 'normalize': True, 'mean': [0.4914672374725342, 0.4822617471218109, 0.4467701315879822], 'std': [0.24703224003314972, 0.24348513782024384, 0.26158785820007324], 'augmentations_train': {'RandomCrop': [32, 4], 'RandomHorizontalFlip': 0.5}, 'augmentations_val': None, 'default_clients': 10, 'partition': 'random', 'examples_from_split': 'validation', 'batch_size': 128, 'caching': False, 'vocab_size': 100}\n",
      "impl                , {'shuffle': False, 'sample_with_replacement': False, 'dtype': 'float', 'non_blocking': True, 'sharing_strategy': 'file_descriptor', 'enable_gpu_acc': True, 'benchmark': True, 'deterministic': False, 'pin_memory': True, 'threads': 0, 'persistent_workers': False, 'mixed_precision': False, 'grad_scaling': True, 'JIT': None, 'validate_every_nth_step': 10, 'checkpoint': {'name': None, 'save_every_nth_step': 10}, 'enable_huggingface_offline_mode': True}\n",
      "server              , {'name': 'honest_but_curious', 'pretrained': True, 'model_state': 'default', 'provide_public_buffers': True, 'has_external_data': False, 'num_queries': 1}\n",
      "user                , {'user_type': 'local_update', 'user_idx': 1, 'num_data_points': '${paired.a}', 'provide_buffers': False, 'provide_labels': True, 'provide_num_data_points': True, 'local_diff_privacy': {'gradient_noise': 0.0, 'input_noise': 0.0, 'distribution': 'laplacian', 'per_example_clipping': 0.0}, 'num_local_updates': '${paired.c}', 'num_data_per_local_update_step': '${paired.b}', 'local_learning_rate': 0.01, 'provide_local_hyperparams': True}\n",
      "num_queries         , 1\n",
      "folder              , no_mask/2023-06-14/14-56-43/10\n",
      "file_path           , /volatile/home/pj273170/Code/Breaching/breaching/outputs/no_mask/2023-06-14/14-56-43/10/tables/table_breach_image_custom_CIFAR10_reports.csv\n",
      "IIP-pixel           , 0.7\n",
      "IIP-lpips           , 0.7\n",
      "IIP-self            , 0.7\n"
     ]
    }
   ],
   "source": [
    "print(merged_df.columns)\n",
    "for col in merged_df.columns:\n",
    "    print(f\"{col:<20}, {merged_df[col].loc[50]}\")"
   ]
  },
  {
   "cell_type": "code",
   "execution_count": null,
   "metadata": {},
   "outputs": [],
   "source": [
    "['name', 'usecase', 'model', 'datapoints', 'model_state', 'attack',\n",
    "       'attacktype', 'mse', 'psnr', 'lpips', 'rpsnr', 'ssim', 'min_mse',\n",
    "       'max_mse', 'max_psnr', 'max_lpips', 'max_ssim', 'max_rpsnr', 'IIP-none',\n",
    "       'feat_mse', 'parameters', 'label_acc', 'queries', 'score', 'total_time',\n",
    "       'user_type', 'gradient_noise', 'seed', 'ATK_type', 'ATK_attack_type',\n",
    "       'ATK_label_strategy', 'ATK_text_strategy', 'ATK_token_recovery',\n",
    "       'ATK_objective', 'ATK_restarts', 'ATK_init', 'ATK_normalize_gradients',\n",
    "       'ATK_optim', 'ATK_augmentations', 'ATK_differentiable_augmentations',\n",
    "       'ATK_regularization', 'ATK_impl', 'data', 'impl', 'server', 'user',\n",
    "       'num_queries', 'folder', 'file_path', 'IIP-pixel', 'IIP-lpips',\n",
    "       'IIP-self']"
   ]
  },
  {
   "cell_type": "code",
   "execution_count": 3,
   "metadata": {},
   "outputs": [
    {
     "name": "stderr",
     "output_type": "stream",
     "text": [
      "Failed to detect the name of this notebook, you can set it manually with the WANDB_NOTEBOOK_NAME environment variable to enable code saving.\n",
      "\u001b[34m\u001b[1mwandb\u001b[0m: Currently logged in as: \u001b[33mpjobic\u001b[0m (\u001b[33mflprivacy\u001b[0m). Use \u001b[1m`wandb login --relogin`\u001b[0m to force relogin\n"
     ]
    },
    {
     "data": {
      "text/html": [
       "Tracking run with wandb version 0.15.5"
      ],
      "text/plain": [
       "<IPython.core.display.HTML object>"
      ]
     },
     "metadata": {},
     "output_type": "display_data"
    },
    {
     "data": {
      "text/html": [
       "Run data is saved locally in <code>/volatile/home/pj273170/Code/Breaching/breaching/wandb/run-20230710_142833-xu01cza1</code>"
      ],
      "text/plain": [
       "<IPython.core.display.HTML object>"
      ]
     },
     "metadata": {},
     "output_type": "display_data"
    },
    {
     "data": {
      "text/html": [
       "Syncing run <strong><a href='https://wandb.ai/flprivacy/Global%20Experiments/runs/xu01cza1' target=\"_blank\">mask</a></strong> to <a href='https://wandb.ai/flprivacy/Global%20Experiments' target=\"_blank\">Weights & Biases</a> (<a href='https://wandb.me/run' target=\"_blank\">docs</a>)<br/>"
      ],
      "text/plain": [
       "<IPython.core.display.HTML object>"
      ]
     },
     "metadata": {},
     "output_type": "display_data"
    },
    {
     "data": {
      "text/html": [
       " View project at <a href='https://wandb.ai/flprivacy/Global%20Experiments' target=\"_blank\">https://wandb.ai/flprivacy/Global%20Experiments</a>"
      ],
      "text/plain": [
       "<IPython.core.display.HTML object>"
      ]
     },
     "metadata": {},
     "output_type": "display_data"
    },
    {
     "data": {
      "text/html": [
       " View run at <a href='https://wandb.ai/flprivacy/Global%20Experiments/runs/xu01cza1' target=\"_blank\">https://wandb.ai/flprivacy/Global%20Experiments/runs/xu01cza1</a>"
      ],
      "text/plain": [
       "<IPython.core.display.HTML object>"
      ]
     },
     "metadata": {},
     "output_type": "display_data"
    },
    {
     "data": {
      "text/html": [
       "Waiting for W&B process to finish... <strong style=\"color:green\">(success).</strong>"
      ],
      "text/plain": [
       "<IPython.core.display.HTML object>"
      ]
     },
     "metadata": {},
     "output_type": "display_data"
    },
    {
     "data": {
      "application/vnd.jupyter.widget-view+json": {
       "model_id": "d214a79099fc445681a18e3ef621ddab",
       "version_major": 2,
       "version_minor": 0
      },
      "text/plain": [
       "VBox(children=(Label(value='0.003 MB of 0.003 MB uploaded (0.000 MB deduped)\\r'), FloatProgress(value=1.0, max…"
      ]
     },
     "metadata": {},
     "output_type": "display_data"
    },
    {
     "data": {
      "text/html": [
       "<style>\n",
       "    table.wandb td:nth-child(1) { padding: 0 10px; text-align: left ; width: auto;} td:nth-child(2) {text-align: left ; width: 100%}\n",
       "    .wandb-row { display: flex; flex-direction: row; flex-wrap: wrap; justify-content: flex-start; width: 100% }\n",
       "    .wandb-col { display: flex; flex-direction: column; flex-basis: 100%; flex: 1; padding: 10px; }\n",
       "    </style>\n",
       "<div class=\"wandb-row\"><div class=\"wandb-col\"><h3>Run history:</h3><br/><table class=\"wandb\"><tr><td>IIP-lpips</td><td>▁</td></tr><tr><td>IIP-pixel</td><td>▁</td></tr><tr><td>IIP-self</td><td>▁</td></tr><tr><td>feat_mse</td><td>▁</td></tr><tr><td>lpips</td><td>▁</td></tr><tr><td>max_rpsnr</td><td>▁</td></tr><tr><td>max_ssim</td><td>▁</td></tr><tr><td>mse</td><td>▁</td></tr><tr><td>parameters</td><td>▁</td></tr><tr><td>psnr</td><td>▁</td></tr><tr><td>rpsnr</td><td>▁</td></tr><tr><td>score</td><td>▁</td></tr><tr><td>ssim</td><td>▁</td></tr></table><br/></div><div class=\"wandb-col\"><h3>Run summary:</h3><br/><table class=\"wandb\"><tr><td>IIP-lpips</td><td>0.0</td></tr><tr><td>IIP-none</td><td>nan</td></tr><tr><td>IIP-pixel</td><td>0.5</td></tr><tr><td>IIP-self</td><td>1.0</td></tr><tr><td>feat_mse</td><td>1.25898</td></tr><tr><td>lpips</td><td>0.23505</td></tr><tr><td>max_lpips</td><td>nan</td></tr><tr><td>max_mse</td><td>nan</td></tr><tr><td>max_psnr</td><td>nan</td></tr><tr><td>max_rpsnr</td><td>10.72239</td></tr><tr><td>max_ssim</td><td>0.47259</td></tr><tr><td>min_mse</td><td>nan</td></tr><tr><td>mse</td><td>0.12595</td></tr><tr><td>parameters</td><td>15826</td></tr><tr><td>psnr</td><td>9.12922</td></tr><tr><td>rpsnr</td><td>10.59968</td></tr><tr><td>score</td><td>95.55196</td></tr><tr><td>ssim</td><td>0.39612</td></tr><tr><td>total_time</td><td>0:00:14.485645</td></tr></table><br/></div></div>"
      ],
      "text/plain": [
       "<IPython.core.display.HTML object>"
      ]
     },
     "metadata": {},
     "output_type": "display_data"
    },
    {
     "data": {
      "text/html": [
       " View run <strong style=\"color:#cdcd00\">mask</strong> at: <a href='https://wandb.ai/flprivacy/Global%20Experiments/runs/xu01cza1' target=\"_blank\">https://wandb.ai/flprivacy/Global%20Experiments/runs/xu01cza1</a><br/>Synced 5 W&B file(s), 0 media file(s), 0 artifact file(s) and 0 other file(s)"
      ],
      "text/plain": [
       "<IPython.core.display.HTML object>"
      ]
     },
     "metadata": {},
     "output_type": "display_data"
    },
    {
     "data": {
      "text/html": [
       "Find logs at: <code>./wandb/run-20230710_142833-xu01cza1/logs</code>"
      ],
      "text/plain": [
       "<IPython.core.display.HTML object>"
      ]
     },
     "metadata": {},
     "output_type": "display_data"
    }
   ],
   "source": [
    "import wandb\n",
    "import pandas as pd\n",
    "\n",
    "PROJECT_NAME = \"Global Experiments\"\n",
    "\n",
    "EXPERIMENT_NAME_COL = \"name\"\n",
    "# NOTES_COL = \"Notes\"\n",
    "# TAGS_COL = \"Tags\"\n",
    "CONFIG_COLS = [\"name\", \"usecase\", \"model\", \"datapoints\", \"model_state\", \n",
    "               \"attack\", \"attacktype\", \"user_type\", \"gradient_noise\", \"seed\", \n",
    "               \"ATK_type\", \"ATK_attack_type\", \"ATK_label_strategy\", \"ATK_text_strategy\", \n",
    "               \"ATK_token_recovery\", \"ATK_objective\", \"ATK_restarts\", \"ATK_init\", \"ATK_normalize_gradients\", \n",
    "               \"ATK_optim\", \"ATK_augmentations\", \"ATK_differentiable_augmentations\", \"ATK_regularization\", \n",
    "               \"ATK_impl\", \"data\", \"impl\", \"server\", \"user\", \"num_queries\"]\n",
    "\n",
    "# SUMMARY_COLS = [\"Final Train Acc\", \"Final Val Acc\"]\n",
    "METRIC_COLS = [\"mse\", \"psnr\", \"lpips\", \"rpsnr\", \"ssim\", \"min_mse\", \"max_mse\", \"max_psnr\", \"max_lpips\", \n",
    "               \"max_ssim\", \"max_rpsnr\", \"IIP-none\", \"feat_mse\", \"parameters\", \"score\", \"total_time\", \n",
    "               \"IIP-pixel\", \"IIP-lpips\", \"IIP-self\"]\n",
    "\n",
    "for i, row in merged_df.iterrows():\n",
    "    \n",
    "    run_name = row[EXPERIMENT_NAME_COL]\n",
    "    # notes = row[NOTES_COL]\n",
    "    # tags = row[TAGS_COL]\n",
    "\n",
    "    config = {}\n",
    "    for config_col in CONFIG_COLS:\n",
    "        config[config_col] = row[config_col]\n",
    "\n",
    "    metrics = {}\n",
    "    for metric_col in METRIC_COLS:\n",
    "        metrics[metric_col] = row[metric_col]\n",
    "    \n",
    "    # summaries = {}\n",
    "    # for summary_col in SUMMARY_COLS:\n",
    "    #     summaries[summary_col] = row[summary_col]\n",
    "\n",
    "\n",
    "run = wandb.init(project=PROJECT_NAME, name=run_name, config=config)\n",
    "\n",
    "for key, val in metrics.items():\n",
    "    if isinstance(val, list):\n",
    "        for _val in val:\n",
    "            run.log({key: _val})\n",
    "    else:\n",
    "        run.log({key: val})\n",
    "        \n",
    "# run.summary.update(summaries)\n",
    "run.finish()"
   ]
  },
  {
   "cell_type": "code",
   "execution_count": null,
   "metadata": {},
   "outputs": [],
   "source": []
  },
  {
   "cell_type": "code",
   "execution_count": null,
   "metadata": {},
   "outputs": [],
   "source": []
  }
 ],
 "metadata": {
  "kernelspec": {
   "display_name": "main",
   "language": "python",
   "name": "python3"
  },
  "language_info": {
   "codemirror_mode": {
    "name": "ipython",
    "version": 3
   },
   "file_extension": ".py",
   "mimetype": "text/x-python",
   "name": "python",
   "nbconvert_exporter": "python",
   "pygments_lexer": "ipython3",
   "version": "3.9.16"
  },
  "orig_nbformat": 4
 },
 "nbformat": 4,
 "nbformat_minor": 2
}
